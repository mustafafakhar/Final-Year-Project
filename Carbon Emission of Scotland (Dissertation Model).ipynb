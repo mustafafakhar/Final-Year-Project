{
 "cells": [
  {
   "cell_type": "code",
   "execution_count": 1,
   "id": "e347a9ce",
   "metadata": {},
   "outputs": [],
   "source": [
    "import pandas as pd\n",
    "import numpy as np"
   ]
  },
  {
   "cell_type": "code",
   "execution_count": 2,
   "id": "c844bf23",
   "metadata": {},
   "outputs": [],
   "source": [
    "df =pd.read_excel('C:\\\\Users\\\\filza\\\\Desktop\\\\Disseration Work\\\\Dataset_Scotland.xlsx')"
   ]
  },
  {
   "cell_type": "code",
   "execution_count": 3,
   "id": "6f6eca01",
   "metadata": {},
   "outputs": [
    {
     "data": {
      "text/html": [
       "<div>\n",
       "<style scoped>\n",
       "    .dataframe tbody tr th:only-of-type {\n",
       "        vertical-align: middle;\n",
       "    }\n",
       "\n",
       "    .dataframe tbody tr th {\n",
       "        vertical-align: top;\n",
       "    }\n",
       "\n",
       "    .dataframe thead th {\n",
       "        text-align: right;\n",
       "    }\n",
       "</style>\n",
       "<table border=\"1\" class=\"dataframe\">\n",
       "  <thead>\n",
       "    <tr style=\"text-align: right;\">\n",
       "      <th></th>\n",
       "      <th>EmissionYear</th>\n",
       "      <th>NCFormat</th>\n",
       "      <th>SourceName</th>\n",
       "      <th>IPCC_code</th>\n",
       "      <th>IPCC_name</th>\n",
       "      <th>Emissions (MtCO2e)</th>\n",
       "      <th>Pollutant</th>\n",
       "      <th>type</th>\n",
       "      <th>LULUCF category</th>\n",
       "      <th>CCP category</th>\n",
       "      <th>IPCC_level1</th>\n",
       "      <th>IPCC_level2</th>\n",
       "      <th>IPCC_level3</th>\n",
       "    </tr>\n",
       "  </thead>\n",
       "  <tbody>\n",
       "    <tr>\n",
       "      <th>0</th>\n",
       "      <td>1990</td>\n",
       "      <td>Energy Supply</td>\n",
       "      <td>Power stations</td>\n",
       "      <td>1A1ai</td>\n",
       "      <td>1A1ai_Public_Electricity&amp;Heat_Production</td>\n",
       "      <td>14.664875</td>\n",
       "      <td>CO2</td>\n",
       "      <td>Source</td>\n",
       "      <td>NaN</td>\n",
       "      <td>Electricity Generation</td>\n",
       "      <td>1: Energy</td>\n",
       "      <td>1A: Fuel Combustion</td>\n",
       "      <td>1A1: Energy Industries</td>\n",
       "    </tr>\n",
       "    <tr>\n",
       "      <th>1</th>\n",
       "      <td>1990</td>\n",
       "      <td>Energy Supply</td>\n",
       "      <td>Miscellaneous industrial/commercial combustion</td>\n",
       "      <td>1A1ai</td>\n",
       "      <td>1A1ai_Public_Electricity&amp;Heat_Production</td>\n",
       "      <td>0.002440</td>\n",
       "      <td>CO2</td>\n",
       "      <td>Source</td>\n",
       "      <td>NaN</td>\n",
       "      <td>Electricity Generation</td>\n",
       "      <td>1: Energy</td>\n",
       "      <td>1A: Fuel Combustion</td>\n",
       "      <td>1A1: Energy Industries</td>\n",
       "    </tr>\n",
       "    <tr>\n",
       "      <th>2</th>\n",
       "      <td>1990</td>\n",
       "      <td>Energy Supply</td>\n",
       "      <td>Miscellaneous industrial/commercial combustion</td>\n",
       "      <td>1A1ai</td>\n",
       "      <td>1A1ai_Public_Electricity&amp;Heat_Production</td>\n",
       "      <td>0.002440</td>\n",
       "      <td>CO2</td>\n",
       "      <td>Source</td>\n",
       "      <td>NaN</td>\n",
       "      <td>Electricity Generation</td>\n",
       "      <td>1: Energy</td>\n",
       "      <td>1A: Fuel Combustion</td>\n",
       "      <td>1A1: Energy Industries</td>\n",
       "    </tr>\n",
       "    <tr>\n",
       "      <th>3</th>\n",
       "      <td>1990</td>\n",
       "      <td>Energy Supply</td>\n",
       "      <td>Power stations</td>\n",
       "      <td>1A1ai</td>\n",
       "      <td>1A1ai_Public_Electricity&amp;Heat_Production</td>\n",
       "      <td>14.664875</td>\n",
       "      <td>CO2</td>\n",
       "      <td>Source</td>\n",
       "      <td>NaN</td>\n",
       "      <td>Electricity Generation</td>\n",
       "      <td>1: Energy</td>\n",
       "      <td>1A: Fuel Combustion</td>\n",
       "      <td>1A1: Energy Industries</td>\n",
       "    </tr>\n",
       "    <tr>\n",
       "      <th>4</th>\n",
       "      <td>1990</td>\n",
       "      <td>Energy Supply</td>\n",
       "      <td>Power stations</td>\n",
       "      <td>1A1ai</td>\n",
       "      <td>1A1ai_Public_Electricity&amp;Heat_Production:_EfW</td>\n",
       "      <td>0.004283</td>\n",
       "      <td>CO2</td>\n",
       "      <td>Source</td>\n",
       "      <td>NaN</td>\n",
       "      <td>Electricity Generation</td>\n",
       "      <td>1: Energy</td>\n",
       "      <td>1A: Fuel Combustion</td>\n",
       "      <td>1A1: Energy Industries</td>\n",
       "    </tr>\n",
       "  </tbody>\n",
       "</table>\n",
       "</div>"
      ],
      "text/plain": [
       "   EmissionYear       NCFormat  \\\n",
       "0          1990  Energy Supply   \n",
       "1          1990  Energy Supply   \n",
       "2          1990  Energy Supply   \n",
       "3          1990  Energy Supply   \n",
       "4          1990  Energy Supply   \n",
       "\n",
       "                                       SourceName IPCC_code  \\\n",
       "0                                  Power stations     1A1ai   \n",
       "1  Miscellaneous industrial/commercial combustion     1A1ai   \n",
       "2  Miscellaneous industrial/commercial combustion     1A1ai   \n",
       "3                                  Power stations     1A1ai   \n",
       "4                                  Power stations     1A1ai   \n",
       "\n",
       "                                       IPCC_name  Emissions (MtCO2e)  \\\n",
       "0       1A1ai_Public_Electricity&Heat_Production           14.664875   \n",
       "1       1A1ai_Public_Electricity&Heat_Production            0.002440   \n",
       "2       1A1ai_Public_Electricity&Heat_Production            0.002440   \n",
       "3       1A1ai_Public_Electricity&Heat_Production           14.664875   \n",
       "4  1A1ai_Public_Electricity&Heat_Production:_EfW            0.004283   \n",
       "\n",
       "  Pollutant    type LULUCF category            CCP category IPCC_level1  \\\n",
       "0       CO2  Source             NaN  Electricity Generation   1: Energy   \n",
       "1       CO2  Source             NaN  Electricity Generation   1: Energy   \n",
       "2       CO2  Source             NaN  Electricity Generation   1: Energy   \n",
       "3       CO2  Source             NaN  Electricity Generation   1: Energy   \n",
       "4       CO2  Source             NaN  Electricity Generation   1: Energy   \n",
       "\n",
       "           IPCC_level2             IPCC_level3  \n",
       "0  1A: Fuel Combustion  1A1: Energy Industries  \n",
       "1  1A: Fuel Combustion  1A1: Energy Industries  \n",
       "2  1A: Fuel Combustion  1A1: Energy Industries  \n",
       "3  1A: Fuel Combustion  1A1: Energy Industries  \n",
       "4  1A: Fuel Combustion  1A1: Energy Industries  "
      ]
     },
     "execution_count": 3,
     "metadata": {},
     "output_type": "execute_result"
    }
   ],
   "source": [
    "df.head()"
   ]
  },
  {
   "cell_type": "code",
   "execution_count": 4,
   "id": "881a3e89",
   "metadata": {},
   "outputs": [
    {
     "name": "stdout",
     "output_type": "stream",
     "text": [
      "<class 'pandas.core.frame.DataFrame'>\n",
      "RangeIndex: 5671 entries, 0 to 5670\n",
      "Data columns (total 13 columns):\n",
      " #   Column              Non-Null Count  Dtype  \n",
      "---  ------              --------------  -----  \n",
      " 0   EmissionYear        5671 non-null   int64  \n",
      " 1   NCFormat            5671 non-null   object \n",
      " 2   SourceName          5671 non-null   object \n",
      " 3   IPCC_code           5671 non-null   object \n",
      " 4   IPCC_name           5671 non-null   object \n",
      " 5   Emissions (MtCO2e)  5671 non-null   float64\n",
      " 6   Pollutant           5671 non-null   object \n",
      " 7   type                5671 non-null   object \n",
      " 8   LULUCF category     783 non-null    object \n",
      " 9   CCP category        5671 non-null   object \n",
      " 10  IPCC_level1         5671 non-null   object \n",
      " 11  IPCC_level2         5671 non-null   object \n",
      " 12  IPCC_level3         5671 non-null   object \n",
      "dtypes: float64(1), int64(1), object(11)\n",
      "memory usage: 576.1+ KB\n"
     ]
    }
   ],
   "source": [
    "#this is to check what are the types of values in the dataset\n",
    "#we can see that the emission year is in integer and the co2 emission is float64, thus, no specific conversion is required.\n",
    "df.info()"
   ]
  },
  {
   "cell_type": "code",
   "execution_count": 5,
   "id": "4fe69e34",
   "metadata": {},
   "outputs": [
    {
     "data": {
      "text/plain": [
       "EmissionYear             0\n",
       "NCFormat                 0\n",
       "SourceName               0\n",
       "IPCC_code                0\n",
       "IPCC_name                0\n",
       "Emissions (MtCO2e)       0\n",
       "Pollutant                0\n",
       "type                     0\n",
       "LULUCF category       4888\n",
       "CCP category             0\n",
       "IPCC_level1              0\n",
       "IPCC_level2              0\n",
       "IPCC_level3              0\n",
       "dtype: int64"
      ]
     },
     "execution_count": 5,
     "metadata": {},
     "output_type": "execute_result"
    }
   ],
   "source": [
    "#checking missing values\n",
    "missing_values=df.isnull().sum()\n",
    "missing_values"
   ]
  },
  {
   "cell_type": "code",
   "execution_count": 6,
   "id": "041bed22",
   "metadata": {},
   "outputs": [],
   "source": [
    "#In this dataset, LULUCF category is a missing value and is not required, thus, we will drop this specific column\n",
    "df.drop(columns=['LULUCF category'], inplace=True)"
   ]
  },
  {
   "cell_type": "code",
   "execution_count": 7,
   "id": "95026b74",
   "metadata": {},
   "outputs": [],
   "source": [
    "from sklearn.model_selection import train_test_split\n",
    "from sklearn.preprocessing import LabelEncoder, OneHotEncoder, StandardScaler\n",
    "from sklearn.linear_model import LinearRegression\n",
    "from sklearn.ensemble import RandomForestRegressor, GradientBoostingRegressor\n",
    "from sklearn.metrics import r2_score, mean_absolute_error, mean_squared_error \n"
   ]
  },
  {
   "cell_type": "code",
   "execution_count": 8,
   "id": "d7207721",
   "metadata": {},
   "outputs": [],
   "source": [
    "X= df[['EmissionYear']]\n",
    "y=df['Emissions (MtCO2e)']"
   ]
  },
  {
   "cell_type": "code",
   "execution_count": 9,
   "id": "79c30d22",
   "metadata": {},
   "outputs": [],
   "source": [
    "X_train, X_test, y_train, y_test= train_test_split(X, y, test_size=0.2, random_state = 42)"
   ]
  },
  {
   "cell_type": "code",
   "execution_count": 10,
   "id": "d83497d0",
   "metadata": {},
   "outputs": [],
   "source": [
    "#importing all the regression models\n",
    "lr=LinearRegression()\n",
    "rf=RandomForestRegressor(random_state=42)\n",
    "gb=GradientBoostingRegressor(random_state=42)\n",
    "\n",
    "#training the model\n",
    "lr.fit(X_train, y_train)\n",
    "rf.fit(X_train, y_train)\n",
    "gb.fit(X_train, y_train)\n",
    "\n",
    "#Run prediction based on the training set\n",
    "y_pred_lr=lr.predict(X_train)\n",
    "y_pred_rf=rf.predict(X_train)\n",
    "y_pred_gb=gb.predict(X_train)\n"
   ]
  },
  {
   "cell_type": "raw",
   "id": "3b885bac",
   "metadata": {},
   "source": []
  },
  {
   "cell_type": "code",
   "execution_count": 11,
   "id": "1f86cca7",
   "metadata": {},
   "outputs": [],
   "source": [
    "#evaluating metrics\n",
    "metrics=pd.DataFrame({\n",
    "    'Model': ['Linear Regression', 'Random Forest', 'Gradient Boosting'],\n",
    "    'R-squared': [r2_score(y_train, y_pred_lr), r2_score(y_train, y_pred_rf), r2_score(y_train, y_pred_gb)],\n",
    "    'MAE': [mean_absolute_error(y_train, y_pred_lr), mean_absolute_error(y_train, y_pred_rf), mean_absolute_error(y_train, y_pred_gb)],\n",
    "    'RMSE': [np.sqrt(mean_squared_error(y_train, y_pred_lr)), np.sqrt(mean_squared_error(y_train, y_pred_rf)), np.sqrt(mean_squared_error(y_train, y_pred_gb))]\n",
    "})"
   ]
  },
  {
   "cell_type": "code",
   "execution_count": 12,
   "id": "e0dcf56e",
   "metadata": {},
   "outputs": [
    {
     "data": {
      "text/html": [
       "<div>\n",
       "<style scoped>\n",
       "    .dataframe tbody tr th:only-of-type {\n",
       "        vertical-align: middle;\n",
       "    }\n",
       "\n",
       "    .dataframe tbody tr th {\n",
       "        vertical-align: top;\n",
       "    }\n",
       "\n",
       "    .dataframe thead th {\n",
       "        text-align: right;\n",
       "    }\n",
       "</style>\n",
       "<table border=\"1\" class=\"dataframe\">\n",
       "  <thead>\n",
       "    <tr style=\"text-align: right;\">\n",
       "      <th></th>\n",
       "      <th>Model</th>\n",
       "      <th>R-squared</th>\n",
       "      <th>MAE</th>\n",
       "      <th>RMSE</th>\n",
       "    </tr>\n",
       "  </thead>\n",
       "  <tbody>\n",
       "    <tr>\n",
       "      <th>0</th>\n",
       "      <td>Linear Regression</td>\n",
       "      <td>0.001730</td>\n",
       "      <td>0.425965</td>\n",
       "      <td>1.209349</td>\n",
       "    </tr>\n",
       "    <tr>\n",
       "      <th>1</th>\n",
       "      <td>Random Forest</td>\n",
       "      <td>0.003012</td>\n",
       "      <td>0.426284</td>\n",
       "      <td>1.208572</td>\n",
       "    </tr>\n",
       "    <tr>\n",
       "      <th>2</th>\n",
       "      <td>Gradient Boosting</td>\n",
       "      <td>0.003071</td>\n",
       "      <td>0.425978</td>\n",
       "      <td>1.208536</td>\n",
       "    </tr>\n",
       "  </tbody>\n",
       "</table>\n",
       "</div>"
      ],
      "text/plain": [
       "               Model  R-squared       MAE      RMSE\n",
       "0  Linear Regression   0.001730  0.425965  1.209349\n",
       "1      Random Forest   0.003012  0.426284  1.208572\n",
       "2  Gradient Boosting   0.003071  0.425978  1.208536"
      ]
     },
     "execution_count": 12,
     "metadata": {},
     "output_type": "execute_result"
    }
   ],
   "source": [
    "metrics"
   ]
  },
  {
   "cell_type": "code",
   "execution_count": null,
   "id": "4499a322",
   "metadata": {},
   "outputs": [],
   "source": []
  }
 ],
 "metadata": {
  "kernelspec": {
   "display_name": "Python 3 (ipykernel)",
   "language": "python",
   "name": "python3"
  },
  "language_info": {
   "codemirror_mode": {
    "name": "ipython",
    "version": 3
   },
   "file_extension": ".py",
   "mimetype": "text/x-python",
   "name": "python",
   "nbconvert_exporter": "python",
   "pygments_lexer": "ipython3",
   "version": "3.9.12"
  }
 },
 "nbformat": 4,
 "nbformat_minor": 5
}
